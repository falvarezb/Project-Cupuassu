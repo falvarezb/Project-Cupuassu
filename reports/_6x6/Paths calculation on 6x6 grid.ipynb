{
 "cells": [
  {
   "cell_type": "markdown",
   "metadata": {},
   "source": [
    "According to https://oeis.org/A165134/b165134.txt, there are 6,637,920 paths on a 6x6 chessboard.\n",
    "\n",
    "Our approach to calculate these paths will exploit the symmetries on the chessboard"
   ]
  },
  {
   "cell_type": "markdown",
   "metadata": {},
   "source": [
    "## Square (1,1)"
   ]
  },
  {
   "cell_type": "markdown",
   "metadata": {},
   "source": [
    "Given that (1,1) has 2 neighbours, (3,2) and (2,3), that are symmetric, we can just calculate the number of paths through one of the neighbours and multiply the result by 2.\n",
    "\n",
    "Let's take (3,2), it has 5 neighbours others than (1,1), those are: (5,1), (5,3), (4,4), (2,4) and (1,3). Since (5,3) and (2,4) are symmetrical, we can disregard (5,3).\n",
    "\n",
    "After all these considerations, we can seed the program with the following initial paths:\n",
    "\n",
    "```\n",
    "seed = List(List((1,3), (3,2), (1,1)), List((5,1), (3,2), (1,1)), List((2,4), (3,2), (1,1)), List((4,4), (3,2), (1,1)))\n",
    "```\n",
    "\n",
    "Here's the result of running the program:\n",
    "\n",
    "```\n",
    "program started at Sun Mar 24 11:46:20 UTC 2019\n",
    "=============== dimension: 6*6 ==================\n",
    "=============== square: (1,1) ==================\n",
    "=============== yield time: 43200 MINUTES ==================\n",
    "=============== report interval: every 50000 solutions ==================\n",
    "=============== seed: List(List((1,3), (3,2), (1,1)), List((5,1), (3,2), (1,1)), List((2,4), (3,2), (1,1), List((5,3), (3,2), (1,1)), List((4,4), (3,2), (1,1))) ==========\n",
    "=============== number of tasks: 5 ==================\n",
    "=============== number of threads: 4 ==================\n",
    "=============== implementation used: WarnsdorffKnightTourApp(6,6) ==================\n",
    "\n",
    "pool-1-thread-4 initial path: List((4,4), (3,2), (1,1)), 16794 paths \n",
    "\n",
    "              \n",
    "pool-1-thread-3 initial path: List((2,4), (3,2), (1,1)), 16434 paths \n",
    "\n",
    "              \n",
    "pool-1-thread-1 initial path: List((1,3), (3,2), (1,1)), 38292 paths \n",
    "\n",
    "              \n",
    "pool-1-thread-2 initial path: List((5,1), (3,2), (1,1)), 174007 paths \n",
    "\n",
    "\n",
    "pool-1-thread-1 initial path: List((5,3), (3,2), (1,1)), paths: 16716\n",
    "\n",
    "              \n",
    "totalPaths: 262243\n",
    "Global duration: 156.65598333333332 min\n",
    "```"
   ]
  },
  {
   "cell_type": "code",
   "execution_count": 37,
   "metadata": {},
   "outputs": [],
   "source": [
    "262243 = 16794 + 16434 + 38292 + 174007 + 16716\n",
    "pathsFrom_1_1 = numPathsVia_3_2*2"
   ]
  },
  {
   "cell_type": "code",
   "execution_count": 45,
   "metadata": {},
   "outputs": [
    {
     "data": {
      "text/plain": [
       "262243"
      ]
     },
     "execution_count": 45,
     "metadata": {},
     "output_type": "execute_result"
    }
   ],
   "source": [
    "numPathsVia_3_2"
   ]
  },
  {
   "cell_type": "markdown",
   "metadata": {},
   "source": [
    "## Square (2,2)"
   ]
  },
  {
   "cell_type": "markdown",
   "metadata": {},
   "source": [
    "Square (2,2) has 4 neighbours: (4,1), (4,3), (3,4) and (1,4). Due to the symmetries, we can just take (4,1) and (4,3). However, let's take into consideration the 4 neighbours to prove that symmetric neighbours result in the same number of paths.\n",
    "\n",
    "        \n",
    "```\n",
    "seed: List(List((4,3), (2,2)), List((4,1), (2,2)), List((3,4), (2,2)), List((1,4), (2,2)))\n",
    "```\n",
    "\n",
    "Program result:\n",
    "\n",
    "```\n",
    "\n",
    "\n",
    "program started at Sun Mar 24 21:50:39 UTC 2019\n",
    "=============== dimension: 6*6 ==================\n",
    "=============== square: (2,2) ==================\n",
    "=============== yield time: 43200 MINUTES ==================\n",
    "=============== report interval: every 20000 solutions ==================\n",
    "=============== seed: List(List((4,3), (2,2)), List((4,1), (2,2)), List((3,4), (2,2)), List((1,4), (2,2))) ==========\n",
    "=============== number of tasks: 4 ==========\n",
    "=============== number of threads: 4 ==================\n",
    "=============== implementation used: KnightTourInFiniteBoardApp(6,6) ==================\n",
    "\n",
    "pool-1-thread-1 initial path: List((4,3), (2,2)), paths: 14937, time: 51.104866666666666 min \n",
    "\n",
    "              \n",
    "pool-1-thread-3 initial path: List((3,4), (2,2)), paths: 14937, time: 51.907666666666664 min \n",
    "\n",
    "              \n",
    "pool-1-thread-4 initial path: List((1,4), (2,2)), paths: 71764, time: 104.73101666666666 min \n",
    "\n",
    "              \n",
    "pool-1-thread-2 initial path: List((4,1), (2,2)), paths: 71764, time: 182.30208333333334 min \n",
    "\n",
    "              \n",
    "totalPaths: 173402\n",
    "Global duration: 182.30285 min\n",
    "\n",
    "```\n"
   ]
  },
  {
   "cell_type": "code",
   "execution_count": 38,
   "metadata": {},
   "outputs": [],
   "source": [
    "pathsFrom_2_2 = 173402"
   ]
  },
  {
   "cell_type": "markdown",
   "metadata": {},
   "source": [
    "## Square (3,3)"
   ]
  },
  {
   "cell_type": "markdown",
   "metadata": {},
   "source": [
    "Square (3,3) has 8 neighbours: (2,1),(4,1),(1,2),(5,2),(1,4),(5,4),(2,5),(4,5), but thanks to the symmetry we can just take 4: (4,5),(1,4),(1,2) and (2,5).\n",
    "\n",
    "```\n",
    "program started at Mon Mar 25 11:13:13 UTC 2019\n",
    "=============== dimension: 6*6 ==================\n",
    "=============== square: (3,3) ==================\n",
    "=============== yield time: 43200 MINUTES ==================\n",
    "=============== report interval: every 20000 solutions ==================\n",
    "=============== seed: List(List((1,2), (3,3)), List((1,4), (3,3)), List((2,5), (3,3)), List((4,5), (3,3))) ==========\n",
    "=============== number of tasks: 4 ==========\n",
    "=============== number of threads: 4 ==================\n",
    "=============== implementation used: KnightTourInFiniteBoardApp(6,6) ==================\n",
    "\n",
    "pool-1-thread-4 initial path: List((4,5), (3,3)), paths: 1630, time: 12.729583333333334 min \n",
    "\n",
    "              \n",
    "pool-1-thread-2 initial path: List((1,4), (3,3)), paths: 4716, time: 18.336883333333336 min \n",
    "\n",
    "              \n",
    "pool-1-thread-1 initial path: List((1,2), (3,3)), paths: 13574, time: 21.34883333333333 min \n",
    "\n",
    "              \n",
    "pool-1-thread-3 initial path: List((2,5), (3,3)), paths: 6411, time: 27.4391 min \n",
    "\n",
    "              \n",
    "totalPaths: 26331\n",
    "Global duration: 27.43991666666667 min\n",
    "```"
   ]
  },
  {
   "cell_type": "code",
   "execution_count": 39,
   "metadata": {},
   "outputs": [],
   "source": [
    "pathsFrom_3_3 = 26331*2"
   ]
  },
  {
   "cell_type": "markdown",
   "metadata": {},
   "source": [
    "## Square (2,1)"
   ]
  },
  {
   "cell_type": "markdown",
   "metadata": {},
   "source": [
    "Square (2,1) has 3 neighbours: (4,2),(1,3),(3,3)\n",
    "\n",
    "```\n",
    "program started at Mon Mar 25 11:50:47 UTC 2019\n",
    "=============== dimension: 6*6 ==================\n",
    "=============== square: (2,1) ==================\n",
    "=============== yield time: 43200 MINUTES ==================\n",
    "=============== report interval: every 20000 solutions ==================\n",
    "=============== seed: List(List((4,2), (2,1)), List((1,3), (2,1)), List((3,3), (2,1))) ==========\n",
    "=============== number of tasks: 3 ==========\n",
    "=============== number of threads: 4 ==================\n",
    "=============== implementation used: KnightTourInFiniteBoardApp(6,6) ==================\n",
    "\n",
    "pool-1-thread-3 initial path: List((3,3), (2,1)), paths: 41501, time: 74.82743333333333 min \n",
    "\n",
    "              \n",
    "pool-1-thread-1 initial path: List((4,2), (2,1)), paths: 63168, time: 170.17601666666667 min \n",
    "\n",
    "              \n",
    "pool-1-thread-2 initial path: List((1,3), (2,1)), paths: 184381, time: 229.9575 min \n",
    "\n",
    "              \n",
    "totalPaths: 289050\n",
    "Global duration: 229.95828333333333 min\n",
    "```"
   ]
  },
  {
   "cell_type": "code",
   "execution_count": 40,
   "metadata": {
    "collapsed": true
   },
   "outputs": [],
   "source": [
    "pathsFrom_2_1 = 289050"
   ]
  },
  {
   "cell_type": "markdown",
   "metadata": {},
   "source": [
    "## Square (3,1)"
   ]
  },
  {
   "cell_type": "markdown",
   "metadata": {},
   "source": [
    "Square (3,1) has 4 neighbours: (5,2),(4,3),(2,3),(1,2)\n",
    "\n",
    "```\n",
    "program started at Mon Mar 25 07:46:45 UTC 2019\n",
    "=============== dimension: 6*6 ==================\n",
    "=============== square: (3,1) ==================\n",
    "=============== yield time: 43200 MINUTES ==================\n",
    "=============== report interval: every 20000 solutions ==================\n",
    "=============== seed: List(List((5,2), (3,1)), List((4,3), (3,1)), List((2,3), (3,1)), List((1,2), (3,1))) ==========\n",
    "=============== number of tasks: 4 ==========\n",
    "=============== number of threads: 4 ==================\n",
    "=============== implementation used: KnightTourInFiniteBoardApp(6,6) ==================\n",
    "\n",
    "pool-1-thread-2 initial path: List((4,3), (3,1)), paths: 5805, time: 43.1843 min \n",
    "\n",
    "              \n",
    "pool-1-thread-3 initial path: List((2,3), (3,1)), paths: 5106, time: 72.16146666666666 min \n",
    "\n",
    "              \n",
    "pool-1-thread-4 initial path: List((1,2), (3,1)), paths: 67020, time: 87.63818333333333 min \n",
    "\n",
    "              \n",
    "pool-1-thread-1 initial path: List((5,2), (3,1)), paths: 37906, time: 164.72325 min \n",
    "\n",
    "              \n",
    "totalPaths: 115837\n",
    "Global duration: 164.7240666666667 min\n",
    "\n",
    "```"
   ]
  },
  {
   "cell_type": "code",
   "execution_count": 41,
   "metadata": {
    "collapsed": true
   },
   "outputs": [],
   "source": [
    "pathsFrom_3_1 = 115837"
   ]
  },
  {
   "cell_type": "markdown",
   "metadata": {},
   "source": [
    "## Square (3,2)"
   ]
  },
  {
   "cell_type": "markdown",
   "metadata": {},
   "source": [
    "Square (3,1) has 6 neighbours: (1,1),(5,1),(1,3),(5,3),(2,4),(4,4)\n",
    "\n",
    "```\n",
    "program started at Mon Mar 25 16:06:57 UTC 2019\n",
    "=============== dimension: 6*6 ==================\n",
    "=============== square: (3,2) ==================\n",
    "=============== yield time: 43200 MINUTES ==================\n",
    "=============== report interval: every 20000 solutions ==================\n",
    "=============== seed: List(List((1,1), (3,2)), List((5,1), (3,2)), List((1,3), (3,2)), List((5,3), (3,2)), List((2,4), (3,2)), List((4,4), (3,2))) ==========\n",
    "=============== number of tasks: 6 ==========\n",
    "=============== number of threads: 4 ==================\n",
    "=============== implementation used: KnightTourInFiniteBoardApp(6,6) ==================\n",
    "\n",
    "pool-1-thread-4 initial path: List((5,3), (3,2)), paths: 636, time: 46.18986666666667 min \n",
    "\n",
    "              \n",
    "pool-1-thread-1 initial path: List((1,1), (3,2)), paths: 39716, time: 46.1905 min \n",
    "\n",
    "              \n",
    "pool-1-thread-3 initial path: List((1,3), (3,2)), paths: 1775, time: 64.77853333333333 min \n",
    "\n",
    "              \n",
    "pool-1-thread-2 initial path: List((5,1), (3,2)), paths: 6195, time: 72.16255 min \n",
    "\n",
    "              \n",
    "pool-1-thread-1 initial path: List((4,4), (3,2)), paths: 620, time: 28.406483333333334 min \n",
    "\n",
    "              \n",
    "pool-1-thread-4 initial path: List((2,4), (3,2)), paths: 636, time: 45.216566666666665 min \n",
    "\n",
    "              \n",
    "totalPaths: 49578\n",
    "Global duration: 91.4073 min\n",
    "\n",
    "```"
   ]
  },
  {
   "cell_type": "code",
   "execution_count": 42,
   "metadata": {
    "collapsed": true
   },
   "outputs": [],
   "source": [
    "pathsFrom_3_2 = 49578"
   ]
  },
  {
   "cell_type": "markdown",
   "metadata": {},
   "source": [
    "Due to reflection and rotation symmetries, we have"
   ]
  },
  {
   "cell_type": "code",
   "execution_count": 43,
   "metadata": {},
   "outputs": [
    {
     "name": "stdout",
     "output_type": "stream",
     "text": [
      "6637920\n"
     ]
    }
   ],
   "source": [
    "totalPaths = pathsFrom_1_1 * 4 + pathsFrom_2_2 * 4 + pathsFrom_3_3 * 4 + pathsFrom_2_1 * 8 + pathsFrom_3_1 * 8 + pathsFrom_3_2 * 8\n",
    "print(totalPaths)"
   ]
  },
  {
   "cell_type": "code",
   "execution_count": 44,
   "metadata": {},
   "outputs": [
    {
     "data": {
      "text/plain": [
       "(524486, 173402, 52662, 115837, 49578, 289050)"
      ]
     },
     "execution_count": 44,
     "metadata": {},
     "output_type": "execute_result"
    }
   ],
   "source": [
    "(pathsFrom_1_1,pathsFrom_2_2,pathsFrom_3_3,pathsFrom_3_1,pathsFrom_3_2,pathsFrom_2_1)"
   ]
  },
  {
   "cell_type": "code",
   "execution_count": null,
   "metadata": {
    "collapsed": true
   },
   "outputs": [],
   "source": []
  }
 ],
 "metadata": {
  "kernelspec": {
   "display_name": "Python 3",
   "language": "python",
   "name": "python3"
  },
  "language_info": {
   "codemirror_mode": {
    "name": "ipython",
    "version": 3
   },
   "file_extension": ".py",
   "mimetype": "text/x-python",
   "name": "python",
   "nbconvert_exporter": "python",
   "pygments_lexer": "ipython3",
   "version": "3.6.3"
  }
 },
 "nbformat": 4,
 "nbformat_minor": 2
}
