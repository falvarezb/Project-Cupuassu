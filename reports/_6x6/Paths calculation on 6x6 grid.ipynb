{
 "cells": [
  {
   "cell_type": "markdown",
   "metadata": {},
   "source": [
    "According to https://oeis.org/A165134/b165134.txt, there are 6,637,920 paths on a 6x6 chessboard.\n",
    "\n",
    "Our approach to calculate these paths will exploit the symmetries on the chessboard"
   ]
  },
  {
   "cell_type": "markdown",
   "metadata": {},
   "source": [
    "## Square (1,1)"
   ]
  },
  {
   "cell_type": "markdown",
   "metadata": {},
   "source": [
    "Given that (1,1) has 2 neighbours, (3,2) and (2,3), that are symmetric, we can just calculate the number of paths through one of the neighbours and multiply the result by 2.\n",
    "\n",
    "Let's take (3,2), it has 5 neighbours, without considering (1,1), those are: (5,1), (5,3), (4,4), (2,4) and (1,3). Since (5,3) and (2,4) are symmetrical, we'll take just (2,4).\n",
    "\n",
    "After all these considerations, we can seed the program with the following initial paths:\n",
    "\n",
    "```\n",
    "seed = List(List((1,3), (3,2), (1,1)), List((5,1), (3,2), (1,1)), List((2,4), (3,2), (1,1)), List((4,4), (3,2), (1,1)))\n",
    "```\n",
    "\n",
    "Here's the result of running the program:\n",
    "\n",
    "```\n",
    "program started at Sun Mar 24 11:46:20 UTC 2019\n",
    "=============== dimension: 6*6 ==================\n",
    "=============== square: (1,1) ==================\n",
    "=============== yield time: 43200 MINUTES ==================\n",
    "=============== report interval: every 50000 solutions ==================\n",
    "=============== seed: List(List((1,3), (3,2), (1,1)), List((5,1), (3,2), (1,1)), List((2,4), (3,2), (1,1)), List((4,4), (3,2), (1,1))) ==========\n",
    "=============== number of tasks: 4 ==================\n",
    "=============== number of threads: 4 ==================\n",
    "=============== implementation used: WarnsdorffKnightTourApp(6,6) ==================\n",
    "\n",
    "pool-1-thread-4 initial path: List((4,4), (3,2), (1,1)), 16794 paths \n",
    "\n",
    "              \n",
    "pool-1-thread-3 initial path: List((2,4), (3,2), (1,1)), 16434 paths \n",
    "\n",
    "              \n",
    "pool-1-thread-1 initial path: List((1,3), (3,2), (1,1)), 38292 paths \n",
    "\n",
    "              \n",
    "pool-1-thread-2 initial path: List((5,1), (3,2), (1,1)), 174007 paths \n",
    "\n",
    "              \n",
    "totalPaths: 245527\n",
    "Global duration: 156.65598333333332 min\n",
    "```"
   ]
  },
  {
   "cell_type": "code",
   "execution_count": 5,
   "metadata": {},
   "outputs": [
    {
     "name": "stdout",
     "output_type": "stream",
     "text": [
      "523922\n"
     ]
    }
   ],
   "source": [
    "numPathsThrough_3_2 = 16794 + 16434*2 + 38292 + 174007\n",
    "numPathsFrom_1_1 = numPathsThrough_3_2*2\n",
    "print(numPathsFrom_1_1)"
   ]
  },
  {
   "cell_type": "markdown",
   "metadata": {},
   "source": [
    "## Square (2,2)"
   ]
  },
  {
   "cell_type": "markdown",
   "metadata": {},
   "source": [
    "Square (2,2) has 4 neighbours: (4,1), (4,3), (3,4) and (1,4). Due to the symmetries, we can just take (4,1) and (4,3).\n",
    "\n",
    "### Via Square(4,1)\n",
    "Square (4,1) has 3 neighbours: (6,2), (5,3) and (3,3). Therefore, we can seed the program with:\n",
    "        \n",
    "```\n",
    "seed: List(List((6,2), (4,1), (2,2)), List((5,3), (4,1), (2,2)), List((3,3), (4,1), (2,2)))\n",
    "```\n",
    "\n",
    "Program result:\n",
    "\n",
    "```\n",
    "\n",
    "program started at Sun Mar 24 17:21:54 UTC 2019\n",
    "=============== dimension: 6*6 ==================\n",
    "=============== square: (1,1) ==================\n",
    "=============== yield time: 43200 MINUTES ==================\n",
    "=============== report interval: 50000 solutions ==================\n",
    "=============== seed: List(List((6,2), (4,1), (2,2)), List((5,3), (4,1), (2,2)), List((3,3), (4,1), (2,2))) ==========\n",
    "=============== number of tasks: 3 ==========\n",
    "=============== number of threads: 4 ==================\n",
    "=============== implementation used: WarnsdorffKnightTourApp(6,6) ==================\n",
    "\n",
    "pool-1-thread-3 neighbour: List((3,3), (4,1), (2,2)), paths: 5017, time: 3900606 \n",
    "\n",
    "              \n",
    "pool-1-thread-2 neighbour: List((5,3), (4,1), (2,2)), paths: 5570, time: 6717193 \n",
    "\n",
    "              \n",
    "pool-1-thread-1 neighbour: List((6,2), (4,1), (2,2)), paths: 61177, time: 8553123 \n",
    "\n",
    "              \n",
    "totalPaths: 71764\n",
    "Global duration: 142.55295 min\n",
    "```\n"
   ]
  },
  {
   "cell_type": "code",
   "execution_count": 9,
   "metadata": {},
   "outputs": [
    {
     "name": "stdout",
     "output_type": "stream",
     "text": [
      "71764\n"
     ]
    }
   ],
   "source": [
    "numPathsThrough_4_1 = 5017+5570+61177\n",
    "print(numPathsThrough_4_1)"
   ]
  },
  {
   "cell_type": "markdown",
   "metadata": {},
   "source": [
    "### Via Square(4,3)\n",
    "Square (4,3) has 7 neighbours: (5,1), (6,2), (6,4), (5,5), (3,5), (2,4) and (3,1). Because of the symmetries, we can take just: (5,1), (5,5), (2,4) and (3,1)\n",
    "        \n",
    "```\n",
    "\n",
    "program started at Sun Mar 24 20:23:00 UTC 2019\n",
    "=============== dimension: 6*6 ==================\n",
    "=============== square: (1,1) ==================\n",
    "=============== yield time: 43200 MINUTES ==================\n",
    "=============== report interval: every 20000 solutions ==================\n",
    "=============== seed: List(List((5,1), (4,3), (2,2)), List((5,5), (4,3), (2,2)), List((3,1), (4,3), (2,2)), List((2,4), (4,3), (2,2))) ==========\n",
    "=============== number of tasks: 4 ==========\n",
    "=============== number of threads: 4 ==================\n",
    "=============== implementation used: WarnsdorffKnightTourApp(6,6) ==================\n",
    "\n",
    "pool-1-thread-4 initial path: List((2,4), (4,3), (2,2)), paths: 556, time: 14.946816666666667 min \n",
    "\n",
    "              \n",
    "pool-1-thread-3 initial path: List((3,1), (4,3), (2,2)), paths: 1278, time: 21.962783333333334 min \n",
    "\n",
    "              \n",
    "pool-1-thread-2 initial path: List((5,5), (4,3), (2,2)), paths: 2543, time: 23.06575 min \n",
    "\n",
    "              \n",
    "pool-1-thread-1 initial path: List((5,1), (4,3), (2,2)), paths: 5431, time: 25.334933333333336 min \n",
    "\n",
    "              \n",
    "totalPaths: 9808\n",
    "Global duration: 25.33566666666667 min\n",
    "\n",
    "```\n"
   ]
  },
  {
   "cell_type": "code",
   "execution_count": 10,
   "metadata": {},
   "outputs": [
    {
     "name": "stdout",
     "output_type": "stream",
     "text": [
      "17073\n"
     ]
    }
   ],
   "source": [
    "numPathsThrough_4_3 = 556*2+1278*2+2543+5431*2\n",
    "print(numPathsThrough_4_3)"
   ]
  },
  {
   "cell_type": "code",
   "execution_count": 11,
   "metadata": {
    "scrolled": true
   },
   "outputs": [
    {
     "name": "stdout",
     "output_type": "stream",
     "text": [
      "177674\n"
     ]
    }
   ],
   "source": [
    "pathsFrom_2_2 = numPathsThrough_4_1*2 + numPathsThrough_4_3*2\n",
    "print(pathsFrom_2_2)"
   ]
  },
  {
   "cell_type": "code",
   "execution_count": 13,
   "metadata": {},
   "outputs": [
    {
     "data": {
      "text/plain": [
       "14937"
      ]
     },
     "execution_count": 13,
     "metadata": {},
     "output_type": "execute_result"
    }
   ],
   "source": [
    "417+1319+2543+3393+556+1278+5431"
   ]
  },
  {
   "cell_type": "code",
   "execution_count": null,
   "metadata": {
    "collapsed": true
   },
   "outputs": [],
   "source": []
  }
 ],
 "metadata": {
  "kernelspec": {
   "display_name": "Python 3",
   "language": "python",
   "name": "python3"
  },
  "language_info": {
   "codemirror_mode": {
    "name": "ipython",
    "version": 3
   },
   "file_extension": ".py",
   "mimetype": "text/x-python",
   "name": "python",
   "nbconvert_exporter": "python",
   "pygments_lexer": "ipython3",
   "version": "3.6.3"
  }
 },
 "nbformat": 4,
 "nbformat_minor": 2
}
